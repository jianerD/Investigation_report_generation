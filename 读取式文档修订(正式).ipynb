{
 "cells": [
  {
   "attachments": {},
   "cell_type": "markdown",
   "metadata": {},
   "source": [
    "# 数据导入"
   ]
  },
  {
   "cell_type": "code",
   "execution_count": 1,
   "metadata": {},
   "outputs": [],
   "source": [
    "# docx = 'D:\\\\（程序用）桂林市2022年绩效考评社会评价分析报告（县市区模板）(1)(1).docx'\n",
    "wj1 = r'C:\\Users\\丁健一\\Desktop\\政府满意度项目\\自动报告生成\\报告生成项目\\datasets\\后续数据\\提交1.2022年度桂林市县（市、区）社会评价统计结果.xls'\n",
    "wj2 = r'C:\\Users\\丁健一\\Desktop\\政府满意度项目\\自动报告生成\\报告生成项目\\datasets\\后续数据\\1.2021年度桂林市县（市、区）社会评价统计结果（终版 ）(1).xls'\n",
    "pl = '灵川县'"
   ]
  },
  {
   "attachments": {},
   "cell_type": "markdown",
   "metadata": {},
   "source": [
    "# 变量处理"
   ]
  },
  {
   "cell_type": "markdown",
   "metadata": {},
   "source": [
    "## 刘振恒"
   ]
  },
  {
   "cell_type": "code",
   "execution_count": 2,
   "metadata": {},
   "outputs": [],
   "source": [
    "from lzh_new_wenjian import *\n",
    "import pandas as pd\n",
    "\n",
    "l_l1 = l_ldpj_total_point(wj1,pl)\n",
    "# 领导评价总分\n",
    "l_l2 = l_ldpj_total_rate(wj1, pl)\n",
    "# 满意率\n",
    "l_l3 = l_ldpj_total_no1_point(wj1,pl)\n",
    "# 市领导一等数\n",
    "l_l4 = l_ldpj_total_no2_point(wj1,pl)\n",
    "# 市领导二等数\n",
    "l_l5 = l_ldpj_total_no3_point(wj1,pl)\n",
    "# 市领导三等数\n",
    "l_l6 = l_ldpj_kaohe_no1_point(wj1,pl)\n",
    "# 相关领导一等数\n",
    "l_l7 = l_ldpj_kaohe_no2_point(wj1,pl)\n",
    "# 相关领导二等数\n",
    "l_l8 = l_ldpj_kaohe_no3_point(wj1,pl)\n",
    "# 相关领导三等数\n",
    "l_m1 = l_mydc_total_point(wj1,pl)\n",
    "# 民意调查总得分\n",
    "l_m2 = l_mydc_total_rate(wj1,pl)\n",
    "# 民意调查得分率\n",
    "l_m3 = l_mydc_quanshi_rank(wj1,pl)\n",
    "# 民意调查全市排名\n",
    "l_m4 = l_m3 - l_2021_mydc_quanshi_rank(wj2,pl)\n",
    "# 民意调查全市排名 2022-2021\n",
    "l_m5 = 75.89 - l_m1\n",
    "# 民意调查差第一名得分\n",
    "l_m6 = l_m1- 73.48\n",
    "# 民意调查 得分高于平均分\n",
    "l_m7 = l_mydc_benlei_rank(wj1,pl)\n",
    "# 民意调查本类排名\n",
    "l_m8 = l_m7 - l_2021_mydc_benlei_rank(wj2,pl)\n",
    "# 民意调查本类排名 2022-2021\n",
    "l_m9 = l_mydc_benlei_maxpoint(wj1,pl) - l_mydc_total_point(wj1,pl)\n",
    "# 民意调查差最高得分\n",
    "l_m10 = l_mydc_total_point(wj1,pl)  - l_mydc_benlei_avgpoint(wj1,pl)\n",
    "# 民意调查比平均分高\n",
    "l_dw1 = l_db1wy_total_point(wj1,pl)\n",
    "# 2代表1委员 总得分\n",
    "l_dw2 = l_db1wy_total_rank(wj1,pl)\n",
    "# 2代表1委员 全市排名\n",
    "l_dw3 = l_db1wy_total_rank(wj1,pl) - l_2021_db1wy_total_rank(wj2,pl)\n",
    "# 2代表1委员 全市排名 2022-2021\n",
    "l_dw4 = 89.92 - l_dw1\n",
    "# 2代表1委员比第一名得分低\n",
    "l_dw5 = l_dw2 - 89.378\n",
    "# 2代表1委员比平均分高\n",
    "l_dw6 = l_db1wy_benlei_rank(wj1,pl)\n",
    "# 21本类排名\n",
    "l_dw7 = l_db1wy_benlei_rank(wj1,pl) - l_2021_2db1wy_rank(wj2,pl)\n",
    "#  21本类比2021年高\n",
    "l_dw8 = l_db1wy_benlei_maxpoint(wj1,pl) - l_dw1\n",
    "# 21本类比第一名低\n",
    "l_dw9 = l_dw1 - l_db1wy_benlei_avgpoint(wj1,pl)\n",
    "# 21 比平均分高\n",
    "l_d1 = l_ddb_total_point(wj1,pl)\n",
    "# 党代表总分\n",
    "l_d2 = l_ddb_total_satisfaction_rate(wj1,pl)\n",
    "# 总体满意率\n",
    "l_d3 = l_ddb_total_rank(wj1,pl)\n",
    "# 总体排名\n",
    "l_d4 = l_ddb_benlei_rank(wj1,pl)\n",
    "# 本类排名\n",
    "l_d5 = l_ddb_q1_point(wj1,pl)\n",
    "# 1题分\n",
    "l_d6 = l_ddb_q1_satisfaction_rate(wj1,pl)\n",
    "# 1题满意率\n",
    "l_d7 = l_ddb_q1_quanshi_rank(wj1,pl)\n",
    "# 1题全市排名\n",
    "l_d8 = l_ddb_q1_benlei_rank(wj1,pl)\n",
    "# 1题本类排名\n",
    "l_d9 = l_ddb_q2_point(wj1,pl)\n",
    "# 2题分\n",
    "l_d10 = l_ddb_q2_satisfaction_rate(wj1,pl)\n",
    "# 2题满意率\n",
    "l_d11 = l_ddb_q2_quanshi_rank(wj1,pl)\n",
    "# 2题全市排名\n",
    "l_d12 = l_ddb_q2_benlei_rank(wj1,pl)\n",
    "# 2题本类排名\n",
    "l_d13 = l_ddb_q3_point(wj1,pl)\n",
    "# 3题分\n",
    "l_d14 = l_ddb_q3_satisfaction_rate(wj1,pl)\n",
    "# 3题满意率\n",
    "l_d15 = l_ddb_q3_quanshi_rank(wj1,pl)\n",
    "# 3题全市排名\n",
    "l_d16 = l_ddb_q3_benlei_rank(wj1,pl)\n",
    "# 3题本类排名\n",
    "l_d17 = l_ddb_q4_point(wj1,pl)\n",
    "# 4题分\n",
    "l_d18 = l_ddb_q4_satisfaction_rate(wj1,pl)\n",
    "# 4题满意率\n",
    "l_d19 = l_ddb_q4_quanshi_rank(wj1,pl)\n",
    "# 4题全市排名\n",
    "l_d20 = l_ddb_q4_benlei_rank(wj1,pl)\n",
    "# 4题本类排名\n",
    "l_d21 = l_ddb_q5_point(wj1,pl)\n",
    "# 5题分\n",
    "l_d22 = l_ddb_q5_satisfaction_rate(wj1,pl)\n",
    "# 5题满意率\n",
    "l_d23 = l_ddb_q5_quanshi_rank(wj1,pl)\n",
    "# 5题全市排名\n",
    "l_d24 = l_ddb_q5_benlei_rank(wj1,pl)\n",
    "# 5题本类排名\n",
    "l_r1 = l_rddb_total_point(wj1,pl)\n",
    "# 人大代表总分\n",
    "l_r2 = l_rddb_total_satisfaction_rate(wj1,pl)\n",
    "# 人大代表满意率\n",
    "l_r3 = l_rddb_total_rank(wj1,pl)\n",
    "# 人大代表全市排名\n",
    "l_r4 = l_rddb_benlei_rank(wj1,pl)\n",
    "# 本类排名\n",
    "l_r5 = l_rddb_q1_point(wj1,pl)\n",
    "# 1题分\n",
    "l_r6 = l_rddb_q1_satisfaction_rate(wj1,pl)\n",
    "# 1题满意率\n",
    "l_r7 = l_rddb_q1_quanshi_rank(wj1,pl)\n",
    "# 1题全市排名\n",
    "l_r8 = l_rddb_q1_benlei_rank(wj1,pl)\n",
    "# 1题本类排名\n",
    "l_r9 = l_rddb_q2_point(wj1,pl)\n",
    "# 2题分\n",
    "l_r10 = l_rddb_q2_satisfaction_rate(wj1,pl)\n",
    "# 2题满意率\n",
    "l_r11 = l_rddb_q2_quanshi_rank(wj1,pl)\n",
    "# 2题全市排名\n",
    "l_r12 = l_rddb_q2_benlei_rank(wj1,pl)\n",
    "# 2题本类排名\n",
    "l_r13 = l_rddb_q3_point(wj1,pl)\n",
    "# 3题分\n",
    "l_r14 = l_rddb_q3_satisfaction_rate(wj1,pl)\n",
    "# 3题满意率\n",
    "l_r15 = l_rddb_q3_quanshi_rank(wj1,pl)\n",
    "# 3题全市排名\n",
    "l_r16 = l_rddb_q3_benlei_rank(wj1,pl)\n",
    "# 3题本类排名\n",
    "l_r17 = l_rddb_q4_point(wj1,pl)\n",
    "# 4题分\n",
    "l_r18 = l_rddb_q4_satisfaction_rate(wj1,pl)\n",
    "# 4题满意率\n",
    "l_r19 = l_rddb_q4_quanshi_rank(wj1,pl)\n",
    "# 4题全市排名\n",
    "l_r20 = l_rddb_q4_benlei_rank(wj1,pl)\n",
    "# 4题本类排名\n",
    "l_r21 = l_rddb_q5_point(wj1,pl)\n",
    "# 5题分\n",
    "l_r22 = l_rddb_q5_satisfaction_rate(wj1,pl)\n",
    "# 5题满意率\n",
    "l_r23 = l_rddb_q5_quanshi_rank(wj1,pl)\n",
    "# 5题全市排名\n",
    "l_r24 = l_rddb_q5_benlei_rank(wj1,pl)\n",
    "# 5题本类排名\n",
    "l_z1 = l_zxwy_total_point(wj1,pl)\n",
    "# 政协委员总分\n",
    "l_z2 = l_zxwy_total_satisfaction_rate(wj1,pl)\n",
    "# 政协委员总体满意度\n",
    "l_z3 = l_zxwy_total_rank(wj1,pl)\n",
    "# 政协委员全市排名\n",
    "l_z4 = l_zxwy_benlei_rank(wj1,pl)\n",
    "# 政协委员本类排名\n",
    "l_z5 = l_zxwy_q1_point(wj1,pl)\n",
    "# 1题分\n",
    "l_z6 = l_zxwy_q1_satisfaction_rate(wj1,pl)\n",
    "# 1题满意率\n",
    "l_z7 = l_zxwy_q1_quanshi_rank(wj1,pl)\n",
    "# 1题全市排名\n",
    "l_z8 = l_zxwy_q1_benlei_rank(wj1,pl)\n",
    "# 1题本类排名\n",
    "l_z9 = l_zxwy_q2_point(wj1,pl)\n",
    "# 2题分\n",
    "l_z10 = l_zxwy_q2_satisfaction_rate(wj1,pl)\n",
    "# 2题满意率\n",
    "l_z11 = l_zxwy_q2_quanshi_rank(wj1,pl)\n",
    "# 2题全市排名\n",
    "l_z12 = l_zxwy_q2_benlei_rank(wj1,pl)\n",
    "# 2题本类排名\n",
    "l_z13 = l_zxwy_q3_point(wj1,pl)\n",
    "# 3题分\n",
    "l_z14 = l_zxwy_q3_satisfaction_rate(wj1,pl)\n",
    "# 3题满意率\n",
    "l_z15 = l_zxwy_q3_quanshi_rank(wj1,pl)\n",
    "# 3题全市排名\n",
    "l_z16 = l_zxwy_q3_benlei_rank(wj1,pl)\n",
    "# 3题本类排名\n",
    "l_z17 = l_zxwy_q4_point(wj1,pl)\n",
    "# 4题分\n",
    "l_z18 = l_zxwy_q4_satisfaction_rate(wj1,pl)\n",
    "# 4题满意率\n",
    "l_z19 = l_zxwy_q4_quanshi_rank(wj1,pl)\n",
    "# 4题全市排名\n",
    "l_z20 = l_zxwy_q4_benlei_rank(wj1,pl)\n",
    "# 4题本类排名\n",
    "l_z21 = l_zxwy_q5_point(wj1,pl)\n",
    "# 5题分\n",
    "l_z22 = l_zxwy_q5_satisfaction_rate(wj1,pl)\n",
    "# 5题满意率\n",
    "l_z23 = l_zxwy_q5_quanshi_rank(wj1,pl)\n",
    "# 5题全市排名\n",
    "l_z24 = l_zxwy_q5_benlei_rank(wj1,pl)\n",
    "# 5题本类排名"
   ]
  },
  {
   "attachments": {},
   "cell_type": "markdown",
   "metadata": {},
   "source": [
    "## 谢耀兴"
   ]
  },
  {
   "cell_type": "code",
   "execution_count": 3,
   "metadata": {},
   "outputs": [],
   "source": [
    "from xyx_new_qiyezhu import *\n",
    "from xyx_qyz_compare import *\n",
    "from xyx_newzhengwufuwu import *\n",
    "from xyx_12345 import *\n",
    "from xyx_yijianjianyi import *\n",
    "from xyx_ncjmA import *\n",
    "from xyx_ncjmB import *\n",
    "from xyx_cxjm import *\n",
    "from lzh_12345kaohe import *\n",
    "\n",
    "wj = wj1"
   ]
  },
  {
   "cell_type": "code",
   "execution_count": 4,
   "metadata": {},
   "outputs": [],
   "source": [
    "#企业主\n",
    "x_q1 = x_qyz_total_point(wj, pl)\n",
    "x_q2 = x_qyz_satisfaction(wj, pl)\n",
    "x_q3 = x_qyz_total_rank(wj, pl)\n",
    "x_q4 = compare_1(wj, pl)\n",
    "x_q5 = compare_a(wj, pl)\n",
    "x_q6 = x_qyz_category_rank(wj, pl)\n",
    "x_q7 = compare_category_1(wj, pl)\n",
    "x_q8 = compare_category_a(wj, pl)\n",
    "x_q1_1 = x_qyz_1point(wj, pl)\n",
    "x_q1_2 = x_qyz_1satisfaction(wj, pl)\n",
    "x_q1_3 = x_qyz_1total_rank(wj, pl)\n",
    "x_q1_4 = x_qyz_1category_rank(wj, pl)\n",
    "x_q2_1 = x_qyz_2point(wj, pl)\n",
    "x_q2_2 = x_qyz_2satisfaction(wj, pl)\n",
    "x_q2_3 = x_qyz_2total_rank(wj, pl)\n",
    "x_q2_4 = x_qyz_2category_rank(wj, pl)\n",
    "x_q3_1 = x_qyz_3point(wj, pl)\n",
    "x_q3_2 = x_qyz_3satisfaction(wj, pl)\n",
    "x_q3_3 = x_qyz_3total_rank(wj, pl)\n",
    "x_q3_4 = x_qyz_3category_rank(wj, pl)\n",
    "x_q4_1 = x_qyz_4point(wj, pl)\n",
    "x_q4_2 = x_qyz_4satisfaction(wj, pl)\n",
    "x_q4_3 = x_qyz_4total_rank(wj, pl)\n",
    "x_q4_4 = x_qyz_4category_rank(wj, pl)\n",
    "x_q5_1 = x_qyz_5point(wj, pl)\n",
    "x_q5_2 = x_qyz_5satisfaction(wj, pl)\n",
    "x_q5_3 = x_qyz_5total_rank(wj, pl)\n",
    "x_q5_4 = x_qyz_5category_rank(wj, pl)"
   ]
  },
  {
   "cell_type": "code",
   "execution_count": 5,
   "metadata": {},
   "outputs": [],
   "source": [
    "#政务服务对象\n",
    "x_z_1 = x_zwfudx_total_point(wj, pl)\n",
    "x_z_2 = x_zwfudx_satisfaction(wj, pl)\n",
    "x_z_3 = x_zwfudx_total_rank(wj, pl)\n",
    "x_z_4 = x_zwfudx_category_rank(wj, pl)\n",
    "x_z1_1 = x_zwfudx_1point(wj, pl)\n",
    "x_z1_2 = x_zwfudx_1satisfaction(wj, pl)\n",
    "x_z1_3 = x_zwfudx_1total_rank(wj, pl)\n",
    "x_z1_4 = x_zwfudx_1category_rank(wj, pl)\n",
    "x_z2_1 = x_zwfudx_2point(wj, pl)\n",
    "x_z2_2 = x_zwfudx_2satisfaction(wj, pl)\n",
    "x_z2_3 = x_zwfudx_2total_rank(wj, pl)\n",
    "x_z2_4 = x_zwfudx_2category_rank(wj, pl)\n",
    "x_z3_1 = x_zwfudx_3point(wj, pl)\n",
    "x_z3_2 = x_zwfudx_3satisfaction(wj, pl)\n",
    "x_z3_3 = x_zwfudx_3total_rank(wj, pl)\n",
    "x_z3_4 = x_zwfudx_3category_rank(wj, pl)\n",
    "x_z4_1 = x_zwfudx_4point(wj, pl)\n",
    "x_z4_2 = x_zwfudx_4satisfaction(wj, pl)\n",
    "x_z4_3 = x_zwfudx_4total_rank(wj, pl)\n",
    "x_z4_4 = x_zwfudx_4category_rank(wj, pl)\n",
    "x_z5_1 = x_zwfudx_5point(wj, pl)\n",
    "x_z5_2 = x_zwfudx_5satisfaction(wj, pl)\n",
    "x_z5_3 = x_zwfudx_5total_rank(wj, pl)\n",
    "x_z5_4 = x_zwfudx_5category_rank(wj, pl)"
   ]
  },
  {
   "cell_type": "code",
   "execution_count": 6,
   "metadata": {},
   "outputs": [],
   "source": [
    "#12345\n",
    "x_r_1 = x_12345_total_point(wj, pl)\n",
    "x_r_2 = x_12345_satisfaction(wj, pl)\n",
    "x_r_3 = x_12345_total_rank(wj, pl)\n",
    "x_r_4 = x_12345_category_rank(wj, pl)\n",
    "x_r1_1 = x_12345_yes(wj, pl)\n",
    "x_r1_2 = x_12345_no(wj, pl)\n",
    "x_r2_1 = x_12345_2point(wj, pl)\n",
    "x_r2_2 = x_12345_2satisfaction(wj, pl)\n",
    "x_r2_3 = x_12345_2total_rank(wj, pl)\n",
    "x_r2_4 = x_12345_2category_rank(wj, pl)\n",
    "x_r3_1 = x_12345_3point(wj, pl)\n",
    "x_r3_2 = x_12345_3satisfaction(wj, pl)\n",
    "x_r3_3 = x_12345_3total_rank(wj, pl)\n",
    "x_r3_4 = x_12345_3category_rank(wj, pl)\n",
    "x_r4_1 = x_12345_4point(wj, pl)\n",
    "x_r4_2 = x_12345_4satisfaction(wj, pl)\n",
    "x_r4_3 = x_12345_4total_rank(wj, pl)\n",
    "x_r4_4 = x_12345_4category_rank(wj, pl)\n",
    "\n",
    "l_k_1 = l_12345_zhibiao_point(wj,pl)\n",
    "l_k_2 = round(l_12345_zhibiao_rank(wj,pl))"
   ]
  },
  {
   "cell_type": "code",
   "execution_count": 7,
   "metadata": {},
   "outputs": [],
   "source": [
    "#群众意见建议\n",
    "x_y_1 = x_qzyjjy_total_point(wj, pl)\n",
    "x_y_2 = x_qzyjjy_satisfaction(wj, pl)\n",
    "x_y_3 = x_qzyjjy_total_rank(wj, pl)\n",
    "x_y_4 = x_qzyjjy_category_rank(wj, pl)\n",
    "x_y1_1 = x_qzyjjy_1yes(wj, pl)\n",
    "x_y1_2 = x_qzyjjy_1no(wj, pl)\n",
    "x_y2_1 = x_qzyjjy_2yes(wj, pl)\n",
    "x_y2_2 = x_qzyjjy_2no(wj, pl)\n",
    "x_y3_1 = x_qzyjjy_3satisfaction(wj, pl)\n",
    "x_y3_2 = x_qzyjjy_3total_rank(wj, pl)\n",
    "x_y3_3 = x_qzyjjy_3category_rank(wj, pl)\n",
    "x_y4_1 = x_qzyjjy_4satisfaction(wj, pl)\n",
    "x_y4_2 = x_qzyjjy_4total_rank(wj, pl)\n",
    "x_y4_3 = x_qzyjjy_4category_rank(wj, pl)"
   ]
  },
  {
   "cell_type": "code",
   "execution_count": 8,
   "metadata": {},
   "outputs": [],
   "source": [
    "#城乡居民\n",
    "x_cs_1 = x_csjm_real_point(wj, pl)\n",
    "x_cs_2 = x_csjm_satisfaction(wj, pl)\n",
    "x_cs_3 = x_csjm_total_rank(wj, pl)\n",
    "x_cs_5 = x_csjm_category_rank(wj, pl)\n",
    "x_cs_4 = x_csjm_total_point(wj, pl)\n",
    "x_cs_c1 = compare_cs1(wj, pl)\n",
    "x_cs_ca = compare_csa(wj, pl)\n",
    "x_cs_cc1 = compare_category_cs1(wj, pl)\n",
    "x_cs_cca = compare_category_csa(wj, pl)\n",
    "x_nc_1 = x_ncjm_real_point(wj, pl)\n",
    "x_nc_2 = x_ncjm_satisfaction(wj, pl)\n",
    "x_nc_3 = x_ncjm_total_rank(wj, pl)\n",
    "x_nc_5 = x_ncjm_category_rank(wj, pl)\n",
    "x_nc_4 = x_ncjm_total_point(wj, pl)\n",
    "x_nc_n1 = compare_nc1(wj, pl)\n",
    "x_nc_na = compare_nca(wj, pl)\n",
    "x_nc_cn1 = compare_category_nc1(wj, pl)\n",
    "x_nc_cna = compare_category_nca(wj, pl)"
   ]
  },
  {
   "cell_type": "code",
   "execution_count": 9,
   "metadata": {},
   "outputs": [],
   "source": [
    "#农村居民\n",
    "x_ncA_1 = x_ncjm_A_total_point(wj, pl)\n",
    "x_ncA_2 = x_ncjm_A_satisfaction(wj, pl)\n",
    "x_ncA_3 = x_ncjm_A_total_rank(wj, pl)\n",
    "x_ncA_4 = x_ncjm_A_category_rank(wj, pl)\n",
    "x_ncA1_1 = x_ncjm_A_1point(wj, pl)\n",
    "x_ncA1_2 = x_ncjm_A_1satisfaction(wj, pl)\n",
    "x_ncA1_3 = x_ncjm_A_1total_rank(wj, pl)\n",
    "x_ncA1_4 = x_ncjm_A_1category_rank(wj, pl)\n",
    "x_ncA2_1 = x_ncjm_A_2point(wj, pl)\n",
    "x_ncA2_2 = x_ncjm_A_2satisfaction(wj, pl)\n",
    "x_ncA2_3 = x_ncjm_A_2total_rank(wj, pl)\n",
    "x_ncA2_4 = x_ncjm_A_2category_rank(wj, pl)\n",
    "x_ncA3_1 = x_ncjm_A_3point(wj, pl)\n",
    "x_ncA3_2 = x_ncjm_A_3satisfaction(wj, pl)\n",
    "x_ncA3_3 = x_ncjm_A_3total_rank(wj, pl)\n",
    "x_ncA3_4 = x_ncjm_A_3category_rank(wj, pl)\n",
    "x_ncA4_1 = x_ncjm_A_4point(wj, pl)\n",
    "x_ncA4_2 = x_ncjm_A_4satisfaction(wj, pl)\n",
    "x_ncA4_3 = x_ncjm_A_4total_rank(wj, pl)\n",
    "x_ncA4_4 = x_ncjm_A_4category_rank(wj, pl)\n",
    "x_ncA5_1 = x_ncjm_A_5point(wj, pl)\n",
    "x_ncA5_2 = x_ncjm_A_5satisfaction(wj, pl)\n",
    "x_ncA5_3 = x_ncjm_A_5total_rank(wj, pl)\n",
    "x_ncA5_4 = x_ncjm_A_5category_rank(wj, pl)\n",
    "\n",
    "x_ncB_1 = x_ncjm_B_total_point(wj, pl)\n",
    "x_ncB_2 = x_ncjm_B_satisfaction(wj, pl)\n",
    "x_ncB_3 = x_ncjm_B_total_rank(wj, pl)\n",
    "x_ncB_4 = x_ncjm_B_category_rank(wj, pl)\n",
    "x_ncB1_1 = x_ncjm_B_1point(wj, pl)\n",
    "x_ncB1_2 = x_ncjm_B_1satisfaction(wj, pl)\n",
    "x_ncB1_3 = x_ncjm_B_1total_rank(wj, pl)\n",
    "x_ncB1_4 = x_ncjm_B_1category_rank(wj, pl)\n",
    "x_ncB2_1 = x_ncjm_B_2point(wj, pl)\n",
    "x_ncB2_2 = x_ncjm_B_2satisfaction(wj, pl)\n",
    "x_ncB2_3 = x_ncjm_B_2total_rank(wj, pl)\n",
    "x_ncB2_4 = x_ncjm_B_2category_rank(wj, pl)\n",
    "x_ncB3_1 = x_ncjm_B_3point(wj, pl)\n",
    "x_ncB3_2 = x_ncjm_B_3satisfaction(wj, pl)\n",
    "x_ncB3_3 = x_ncjm_B_3total_rank(wj, pl)\n",
    "x_ncB3_4 = x_ncjm_B_3category_rank(wj, pl)\n",
    "x_ncB4_1 = x_ncjm_B_4point(wj, pl)\n",
    "x_ncB4_2 = x_ncjm_B_4satisfaction(wj, pl)\n",
    "x_ncB4_3 = x_ncjm_B_4total_rank(wj, pl)\n",
    "x_ncB4_4 = x_ncjm_B_4category_rank(wj, pl)\n",
    "x_ncB5_1 = x_ncjm_B_5point(wj, pl)\n",
    "x_ncB5_2 = x_ncjm_B_5satisfaction(wj, pl)\n",
    "x_ncB5_3 = x_ncjm_B_5total_rank(wj, pl)\n",
    "x_ncB5_4 = x_ncjm_B_5category_rank(wj, pl)"
   ]
  },
  {
   "cell_type": "markdown",
   "metadata": {},
   "source": [
    "## 李巧"
   ]
  },
  {
   "cell_type": "code",
   "execution_count": 10,
   "metadata": {},
   "outputs": [],
   "source": [
    "from 数据查询之城市居民A import *\n",
    "from 数据查询之城市居民B import *"
   ]
  },
  {
   "attachments": {},
   "cell_type": "markdown",
   "metadata": {},
   "source": [
    "### 城市居民A"
   ]
  },
  {
   "cell_type": "code",
   "execution_count": 11,
   "metadata": {},
   "outputs": [],
   "source": [
    "# 总得分\n",
    "q_csa_score = q_csjm_A_total_point(wj1,pl)\n",
    "\n",
    "# 本类排名\n",
    "q_csa_rank1 = q_csjm_A_rank1(wj1,pl)\n",
    "\n",
    "# 全市排名\n",
    "q_csa_rank2 = q_csjm_A_rank2(wj1,pl)\n",
    "\n",
    "# 满意度\n",
    "q_csa_dos = q_csjm_A_dos(wj1,pl)\n",
    "\n",
    "# 问题1得分\n",
    "q_csa_q1_score = q_csjm_A_q1_score(wj1,pl)\n",
    "\n",
    "# 问题1本类排名\n",
    "q_csa_q1_rank1 = q_csjm_A_q1_rank1(wj1,pl)\n",
    "\n",
    "# 问题1全市排名\n",
    "q_csa_q1_rank2 = q_csjm_A_q1_rank2(wj1,pl)\n",
    "\n",
    "# 问题1满意度\n",
    "q_csa_q1_dos = q_csjm_A_q1_dos(wj1,pl)\n",
    "\n",
    "# 问题2得分\n",
    "q_csa_q2_score = q_csjm_A_q2_score(wj1,pl)\n",
    "\n",
    "# 问题2本类排名\n",
    "q_csa_q2_rank1 = q_csjm_A_q2_rank1(wj1,pl)\n",
    "\n",
    "# 问题2全市排名\n",
    "q_csa_q2_rank2 = q_csjm_A_q2_rank2(wj1,pl)\n",
    "\n",
    "# 问题2满意度\n",
    "q_csa_q2_dos = q_csjm_A_q2_dos(wj1,pl)\n",
    "\n",
    "# 问题3得分\n",
    "q_csa_q3_score = q_csjm_A_q3_score(wj1,pl)\n",
    "\n",
    "# 问题3本类排名\n",
    "q_csa_q3_rank1 = q_csjm_A_q3_rank1(wj1,pl)\n",
    "\n",
    "# 问题3全市排名\n",
    "q_csa_q3_rank2 = q_csjm_A_q3_rank2(wj1,pl)\n",
    "\n",
    "# 问题3满意度\n",
    "q_csa_q3_dos = q_csjm_A_q3_dos(wj1,pl)\n",
    "\n",
    "# 问题4得分\n",
    "q_csa_q4_score = q_csjm_A_q4_score(wj1,pl)\n",
    "\n",
    "# 问题4本类排名\n",
    "q_csa_q4_rank1 = q_csjm_A_q4_rank1(wj1,pl)\n",
    "\n",
    "# 问题4全市排名\n",
    "q_csa_q4_rank2 = q_csjm_A_q4_rank2(wj1,pl)\n",
    "\n",
    "# 问题4满意度\n",
    "q_csa_q4_dos = q_csjm_A_q4_dos(wj1,pl)"
   ]
  },
  {
   "attachments": {},
   "cell_type": "markdown",
   "metadata": {},
   "source": [
    "### 城市居民B"
   ]
  },
  {
   "cell_type": "code",
   "execution_count": 12,
   "metadata": {},
   "outputs": [],
   "source": [
    "# 总得分\n",
    "q_csb_score = q_csjm_B_total_point(wj1,pl)\n",
    "\n",
    "# 本类排名\n",
    "q_csb_rank1 = q_csjm_B_rank1(wj1,pl)\n",
    "\n",
    "# 全市排名\n",
    "q_csb_rank2 = q_csjm_B_rank2(wj1,pl)\n",
    "\n",
    "# 满意度\n",
    "q_csb_dos = q_csjm_B_dos(wj1,pl)\n",
    "\n",
    "# 问题1得分\n",
    "q_csb_q1_score = q_csjm_B_q1_score(wj1,pl)\n",
    "\n",
    "# 问题1本类排名\n",
    "q_csb_q1_rank1 = q_csjm_B_q1_rank1(wj1,pl)\n",
    "\n",
    "# 问题1全市排名\n",
    "q_csb_q1_rank2 = q_csjm_B_q1_rank2(wj1,pl)\n",
    "\n",
    "# 问题1满意度\n",
    "q_csb_q1_dos = q_csjm_B_q1_dos(wj1,pl)\n",
    "\n",
    "# 问题2得分\n",
    "q_csb_q2_score = q_csjm_B_q2_score(wj1,pl)\n",
    "\n",
    "# 问题2本类排名\n",
    "q_csb_q2_rank1 = q_csjm_B_q2_rank1(wj1,pl)\n",
    "\n",
    "# 问题2全市排名\n",
    "q_csb_q2_rank2 = q_csjm_B_q2_rank2(wj1,pl)\n",
    "\n",
    "# 问题2满意度\n",
    "q_csb_q2_dos = q_csjm_B_q2_dos(wj1,pl)\n",
    "\n",
    "# 问题3得分\n",
    "q_csb_q3_score = q_csjm_B_q3_score(wj1,pl)\n",
    "\n",
    "# 问题3本类排名\n",
    "q_csb_q3_rank1 = q_csjm_B_q3_rank1(wj1,pl)\n",
    "\n",
    "# 问题3全市排名\n",
    "q_csb_q3_rank2 = q_csjm_B_q3_rank2(wj1,pl)\n",
    "\n",
    "# 问题3满意度\n",
    "q_csb_q3_dos = q_csjm_B_q3_dos(wj1,pl)\n",
    "\n",
    "# 问题4得分\n",
    "q_csb_q4_score = q_csjm_B_q4_score(wj1,pl)\n",
    "\n",
    "# 问题4本类排名\n",
    "q_csb_q4_rank1 = q_csjm_B_q4_rank1(wj1,pl)\n",
    "\n",
    "# 问题4全市排名\n",
    "q_csb_q4_rank2 = q_csjm_B_q4_rank2(wj1,pl)\n",
    "\n",
    "# 问题4满意度\n",
    "q_csb_q4_dos = q_csjm_B_q4_dos(wj1,pl)"
   ]
  },
  {
   "attachments": {},
   "cell_type": "markdown",
   "metadata": {},
   "source": [
    "## 总体评价结果"
   ]
  },
  {
   "attachments": {},
   "cell_type": "markdown",
   "metadata": {},
   "source": [
    "### 导入模板"
   ]
  },
  {
   "cell_type": "code",
   "execution_count": 13,
   "metadata": {},
   "outputs": [],
   "source": [
    "import docx\n",
    "\n",
    "# 打开需要读取的docx文件\n",
    "doc = docx.Document(r'C:\\Users\\丁健一\\Desktop\\政府满意度项目\\自动报告生成\\报告生成项目\\datasets\\（程序用）桂林市2022年绩效考评社会评价分析报告（县市区模板）.docx')"
   ]
  },
  {
   "attachments": {},
   "cell_type": "markdown",
   "metadata": {},
   "source": [
    "### 描述段落"
   ]
  },
  {
   "cell_type": "code",
   "execution_count": 14,
   "metadata": {},
   "outputs": [],
   "source": [
    "doc.paragraphs[72].text = f'2022年，县（市、区）绩效考评社会评价工作共采集样本XX个，其中有效样本XX个，样本有效率为XX%。社会评价总得分XX分，得分率为XX%，在17个县（市、区）中排名（以下简称“全市排名”）第XX位，比2021年上升（下降）XX位；在6个农产品主产区（5个生态功能区/6个重点开发区）中排名（以下简称“本类排名”）第XX位，比2021年上升（下降）XX位。其中，领导评价得分XX分，得分率为XX%，全市排名第XX位，比2021年上升（下降）XX位；本类排名第XX位，比2021年上升（下降）XX位。民意调查得分XX分，得分率为XX%，全市排名第XX位，比2021年上升（下降）XX位；本类排名第XX位，比2021年上升（下降）XX位。'"
   ]
  },
  {
   "attachments": {},
   "cell_type": "markdown",
   "metadata": {},
   "source": [
    "###  表1表头"
   ]
  },
  {
   "cell_type": "code",
   "execution_count": 15,
   "metadata": {},
   "outputs": [],
   "source": [
    "doc.paragraphs[74].text = f'表1. {pl}2022年社会评价总体情况及与全市和本类第1名的对比'"
   ]
  },
  {
   "attachments": {},
   "cell_type": "markdown",
   "metadata": {},
   "source": [
    "### 表1内容"
   ]
  },
  {
   "cell_type": "code",
   "execution_count": 16,
   "metadata": {},
   "outputs": [
    {
     "data": {
      "text/plain": [
       "\"\\ntable_1.cell(0,4).text = f'' # XX县（市、区）\\ntable_1.cell(0,5).text = f'' # XX县（市、区）\\n(本类第1)\\ntable_1.cell(0,6).text = f'' # XX县（市、区）\\n(全市第1)\\n\""
      ]
     },
     "execution_count": 16,
     "metadata": {},
     "output_type": "execute_result"
    }
   ],
   "source": [
    "\n",
    "table_1 = doc.tables[0]\n",
    "\n",
    "table_1.cell(0,4).text = f'{pl}' # XX县（市、区）\n",
    "\n",
    "'''\n",
    "table_1.cell(0,5).text = f'' # XX县（市、区）\\n(本类第1)\n",
    "table_1.cell(0,6).text = f'' # XX县（市、区）\\n(全市第1)\n",
    "'''"
   ]
  },
  {
   "cell_type": "code",
   "execution_count": null,
   "metadata": {},
   "outputs": [],
   "source": [
    "doc.paragraphs[75].text = f'从上表可以看出，{pl}与全市及本类第1名之间的差距主要是在XXXX上，尤其是XXXX差距较大。'"
   ]
  },
  {
   "attachments": {},
   "cell_type": "markdown",
   "metadata": {},
   "source": [
    "# 具体评价结果"
   ]
  },
  {
   "cell_type": "markdown",
   "metadata": {},
   "source": [
    "## 领导评价结果"
   ]
  },
  {
   "attachments": {},
   "cell_type": "markdown",
   "metadata": {},
   "source": [
    "### 描述段落"
   ]
  },
  {
   "cell_type": "code",
   "execution_count": 17,
   "metadata": {},
   "outputs": [],
   "source": [
    "# l\n",
    "doc.paragraphs[79].text = f'领导评价分为市领导评价和承担自治区指标考核任务单位领导评价两类评价，权重相同。{pl}县（市、区）2022年度领导评价得分{l_l1}分，得分率为{l_l2}'"
   ]
  },
  {
   "attachments": {},
   "cell_type": "markdown",
   "metadata": {},
   "source": [
    "### 表2表头"
   ]
  },
  {
   "cell_type": "code",
   "execution_count": 18,
   "metadata": {},
   "outputs": [],
   "source": [
    "# l\n",
    "doc.paragraphs[81].text = f'表2. {pl}县（市、区）2022年度领导评价总体情况'"
   ]
  },
  {
   "attachments": {},
   "cell_type": "markdown",
   "metadata": {},
   "source": [
    "### 表2内容"
   ]
  },
  {
   "cell_type": "code",
   "execution_count": 19,
   "metadata": {},
   "outputs": [
    {
     "data": {
      "text/plain": [
       "\"\\ntable_2.cell(0,4).text = f'' # XX县（市、区）\\ntable_2.cell(0,5).text = f'' # XX县（市、区）\\n(本类第1)\\ntable_2.cell(0,6).text = f'' # XX县（市、区）\\n(全市第1)\\n\""
      ]
     },
     "execution_count": 19,
     "metadata": {},
     "output_type": "execute_result"
    }
   ],
   "source": [
    "table_2 = doc.tables[1]\n",
    "'''\n",
    "table_2.cell(0,4).text = f'' # XX县（市、区）\n",
    "table_2.cell(0,5).text = f'' # XX县（市、区）\\n(本类第1)\n",
    "table_2.cell(0,6).text = f'' # XX县（市、区）\\n(全市第1)\n",
    "'''"
   ]
  },
  {
   "attachments": {},
   "cell_type": "markdown",
   "metadata": {},
   "source": [
    "### 描述第二段"
   ]
  },
  {
   "cell_type": "code",
   "execution_count": 20,
   "metadata": {},
   "outputs": [],
   "source": [
    "# l\n",
    "doc.paragraphs[83].text = f'{pl}在市领导评价中，被{l_l3}位市领导列为一等，{l_l4}位市领导列为二等，{l_l5}位市领导列为三等；承担自治区指标考核任务单位领导评价中，被{l_l6}位单位领导列为一等，{l_l7}位单位领导列为二等，{l_l8}位单位领导列为三等。'"
   ]
  },
  {
   "attachments": {},
   "cell_type": "markdown",
   "metadata": {},
   "source": [
    "## 民意调查结果"
   ]
  },
  {
   "attachments": {},
   "cell_type": "markdown",
   "metadata": {},
   "source": [
    "### 总体描述段落"
   ]
  },
  {
   "cell_type": "code",
   "execution_count": 21,
   "metadata": {},
   "outputs": [],
   "source": [
    "# l\n",
    "doc.paragraphs[86].text = f'县（市、区）民意调查分为“两代表一委员”评价、企业主评价、城市居民评价、农村居民评价、政务服务对象评价和落实整改评价6类评价主题。{pl}县（市、区）2022年度民意调查总得分{l_m1}分，得分率为{l_m2}，全市排名第{l_m3}位，比2021年上升（下降）{l_m4}位，比第1名得分低{l_m5}分，高于（低于）平均得分{l_m6}分。本类排名第{l_m7}位，比2021年上升（下降）{l_m8}位，比第1名得分低{l_m9}分，高于（低于）平均得分{l_m10}分。'"
   ]
  },
  {
   "attachments": {},
   "cell_type": "markdown",
   "metadata": {},
   "source": [
    "### 表3表头"
   ]
  },
  {
   "cell_type": "code",
   "execution_count": 22,
   "metadata": {},
   "outputs": [],
   "source": [
    "# d\n",
    "doc.paragraphs[88].text = f'表3.{pl}2022年度民意调查总体情况'"
   ]
  },
  {
   "attachments": {},
   "cell_type": "markdown",
   "metadata": {},
   "source": [
    "### 表3内容"
   ]
  },
  {
   "cell_type": "code",
   "execution_count": 23,
   "metadata": {},
   "outputs": [
    {
     "data": {
      "text/plain": [
       "'\\ntable_3 = doc.tables[2]\\ntable_3.cell(0,4).text\\n'"
      ]
     },
     "execution_count": 23,
     "metadata": {},
     "output_type": "execute_result"
    }
   ],
   "source": [
    "'''\n",
    "table_3 = doc.tables[2]\n",
    "table_3.cell(0,4).text\n",
    "'''"
   ]
  },
  {
   "attachments": {},
   "cell_type": "markdown",
   "metadata": {},
   "source": [
    "### 图1标题"
   ]
  },
  {
   "cell_type": "code",
   "execution_count": 24,
   "metadata": {},
   "outputs": [],
   "source": [
    "# d\n",
    "doc.paragraphs[88].text = f'图1. {pl}2022年度民意调查结果与本类第1的对比图'"
   ]
  },
  {
   "attachments": {},
   "cell_type": "markdown",
   "metadata": {},
   "source": [
    "## 两代一委描述段落"
   ]
  },
  {
   "cell_type": "code",
   "execution_count": 25,
   "metadata": {},
   "outputs": [],
   "source": [
    "# l\n",
    "doc.paragraphs[94].text = f'“两代表一委员”评价包括党代表、人大代表和政协委员3类评价主体。总体来看，{pl}“两代表一委员”评价得分{l_dw1}分，全市排名第{l_dw2}位，比2021年上升（下降）{l_dw3}位，比第1名得分低{l_dw4}分，高于（低于）平均得分{l_dw5}分。本类排名第{l_dw6}位，比2021年上升（下降）{l_dw7}位，比第1名得分低{l_dw8}分，高于（低于）平均得分{l_dw9}分。'"
   ]
  },
  {
   "attachments": {},
   "cell_type": "markdown",
   "metadata": {},
   "source": [
    "### 党代表描述段落"
   ]
  },
  {
   "cell_type": "code",
   "execution_count": 26,
   "metadata": {},
   "outputs": [],
   "source": [
    "# l\n",
    "doc.paragraphs[96].text = f'党代表评价的访问提纲共有5个问题，{pl}（百分制）{l_d1}分，总体满意度为{l_d2}，全市排名第{l_d3}位、本类排名第{l_d4}位。其中“贯彻落实桂林市委重大决策部署情况” 得分（百分制）{l_d5}分，满意度为{l_d6}%，全市排名第{l_d7}位、本类排名第{l_d8}位；“贯彻落实市党代会工作报告情况” 得分（百分制）{l_d9}分，满意度为{l_d10}，全市排名第{l_d11}位、本类排名第{l_d12}位；“抓实基层党建工作，增强基层党组织政治功能和发挥战斗堡垒作用情况” 得分（百分制）{l_d13}分，满意度为{l_d14}%，全市排名第{l_d15}位、本类排名第{l_d16}；“严肃党内政治生活、净化党内政治生态情况” 得分（百分制）{l_d17}分，满意度为{l_d18}%，全市排名第{l_d19}位、本类排名第{l_d20}；“调动党员干部在防疫情、稳经济、保安全工作中发挥先锋模范带头作用情况” 得分（百分制）{l_d21}分，满意度为{l_d22}%，全市排名第{l_d23}位、本类排名第{l_d24}位。'"
   ]
  },
  {
   "attachments": {},
   "cell_type": "markdown",
   "metadata": {},
   "source": [
    "### 人大代表评价描述段落"
   ]
  },
  {
   "cell_type": "code",
   "execution_count": 27,
   "metadata": {},
   "outputs": [],
   "source": [
    "# l\n",
    "doc.paragraphs[99].text = f'人大代表评价的访问提纲共有5个问题，{pl}得分（百分制）{l_r1}分，总体满意度为{l_r2}%，全市排名第{l_r3}位、本类排名第{l_r4}位。其中“完成政府工作报告提出的各项目标任务情况” 得分（百分制）{l_r5}分，满意度为{l_r6}%，全市排名第{l_r7}位、本类排名第{l_r8}位；“在制定出台重大政策规划，尤其是涉及群众利益的重大决策中，按要求组织人大代表、政协委员开展听证质询、征求意见等方面” 得分（百分制）{l_r9}分，满意度为{l_r10}%，全市排名第{l_r11}位、本类排名第{l_r12}位；“各有关部门沟通协调，按时书面答复办理提案及意见建议情况” 得分（百分制）{l_r13}分，满意度为{l_r14}%，全市排名第{l_r15}位、本类排名第{l_r16}位；“招商引资、项目建设，统筹疫情防控和经济社会发展情况” 得分（百分制）{l_r17}分，满意度为{l_r18}%，全市排名第{l_r19}位、本类排名第{l_r20}位；“生态宜居环境建设、社会民生改善情况” 得分（百分制）{l_r21}分，满意度为{l_r22}%，全市排名第{l_r23}位、本类排名第{l_r24}位。'"
   ]
  },
  {
   "cell_type": "markdown",
   "metadata": {},
   "source": [
    "### 政协委员描述段落"
   ]
  },
  {
   "cell_type": "code",
   "execution_count": 28,
   "metadata": {},
   "outputs": [],
   "source": [
    "# l\n",
    "doc.paragraphs[102].text = f'政协委员评价的访问提纲共有5个问题，{pl}得分（百分制）{l_z1}分、总体满意度为{l_z2}%，全市排名第{l_z3}位、本类排名第{l_z4}位。其中“完成政府工作报告提出的各项目标任务情况” 得分（百分制）{l_z5}分、满意度为{l_z6}%，全市排名第{l_z7}位、本类排名第{l_z8}位；“在制定出台重大政策规划，尤其是涉及群众利益的重大决策中，按要求组织人大代表、政协委员开展听证质询、征求意见等方面” 得分（百分制）{l_z9}分、满意度为{l_z10}%，全市排名第{l_z11}位、本类排名第{l_z12}位；“各有关部门沟通协调，按时书面答复办理提案及意见建议情况” 得分（百分制）{l_z13}分、满意度为{l_z14}%，全市排名第{l_z15}位、本类排名第{l_z16}位；“招商引资、项目建设，统筹疫情防控和经济社会发展情况” 得分（百分制）{l_z17}分、满意度为{l_z18}%，全市排名第{l_z19}位、本类排名第{l_z20}位；“生态宜居环境建设、社会民生改善情况” 得分（百分制）{l_z21}分、满意度为{l_z22}%，全市排名第{l_z23}位、本类排名第{l_z24}位。'"
   ]
  },
  {
   "attachments": {},
   "cell_type": "markdown",
   "metadata": {},
   "source": [
    "## 企业主评价结果描述"
   ]
  },
  {
   "attachments": {},
   "cell_type": "markdown",
   "metadata": {},
   "source": [
    "### 第一段"
   ]
  },
  {
   "cell_type": "code",
   "execution_count": 29,
   "metadata": {},
   "outputs": [],
   "source": [
    "# x\n",
    "doc.paragraphs[105].text = f'企业主评价包括重大项目业主、专精特新企业主、外来投资者、骨干企业主4类评价主体，访问提纲共有5个问题。{pl}得分（百分制）{x_q1}分、总体满意度为{x_q2}%，全市排名第{x_q3}位。百分制得分{x_q1}分，比第1名得分低{x_q4}分，高于（低于）平均得分{x_q5}分。本类排名第{x_q6}位，比第1名得分低{x_q7}分，高于（低于）平均得分{x_q8}分。'"
   ]
  },
  {
   "attachments": {},
   "cell_type": "markdown",
   "metadata": {},
   "source": [
    "### 第二段"
   ]
  },
  {
   "cell_type": "code",
   "execution_count": 30,
   "metadata": {},
   "outputs": [],
   "source": [
    "# x\n",
    "doc.paragraphs[106].text = f'其中“建立政企工作联系机制，搭建政企沟通平台，为企业纾难解困”方面得分（百分制）{x_q1_1}分、满意度为{x_q1_2}%，全市排名第{x_q1_3}位、本类排名第{x_q1_4}位；“优化生活服务环境”方面得分（百分制）{x_q2_1}分、满意度为{x_q2_2}%，全市排名第{x_q2_3}位、本类排名第{x_q2_4}位；“宣传兑现各类惠企政策、落实减税降费政策、人才鼓励政策”方面得分（百分制）{x_q3_1}分、满意度为{x_q3_2}%，全市排名第{x_q3_3}位、本类排名第{x_q3_4}位；“优化改善融资和信用环境”方面得分（百分制）{x_q4_1}分、满意度为{x_q4_2}%，全市排名第{x_q4_3}位、本类排名第{x_q4_4}位；“机关干部担当实干，优化服务，提升营商环境”方面得分（百分制）{x_q5_1}分、满意度为{x_q5_2}%，全市排名第{x_q5_3}位、本类排名第{x_q5_4}位。'"
   ]
  },
  {
   "cell_type": "markdown",
   "metadata": {},
   "source": [
    "## 城市居民评价结果描述段落"
   ]
  },
  {
   "cell_type": "markdown",
   "metadata": {},
   "source": [
    "### 第一段"
   ]
  },
  {
   "cell_type": "code",
   "execution_count": 31,
   "metadata": {},
   "outputs": [],
   "source": [
    "# 谢改\n",
    "doc.paragraphs[109].text = f'城市居民评价的访问提纲分为A、B两份，每份各有4个问题，{pl}得分（百分制）{x_cs_4}分、总体满意度为{x_cs_2}%，全市排名第{x_cs_3}位，比第1名得分低{x_cs_c1}分，高于（低于）平均得分{x_cs_ca}分。本类排名第{x_cs_5}位，比第1名得分低{x_cs_cc1}分，高于（低于）平均得分{x_cs_cca}分。'"
   ]
  },
  {
   "attachments": {},
   "cell_type": "markdown",
   "metadata": {},
   "source": [
    "### 城市居民A描述"
   ]
  },
  {
   "cell_type": "code",
   "execution_count": 32,
   "metadata": {},
   "outputs": [],
   "source": [
    "# qd\n",
    "doc.paragraphs[111].text = f'{pl}城市居民A评价得分（百分制）{q_csa_score}分、满意度为{q_csa_dos}%，全市排名第{q_csa_rank2}位，本类排名第{q_csa_rank1}位。其中“医疗服务机构”方面得分（百分制）{q_csa_q1_score}分、满意度为{q_csa_q1_dos}%，全市排名第{q_csa_q1_rank2}位、本类排名第{q_csa_q1_rank1}位；“解决子女就近上学”方面得分（百分制）{q_csa_q2_score}分、满意度为{q_csa_q2_dos}%，全市排名第{q_csa_q2_rank2}位、本类排名第{q_csa_q2_rank1}位；“提供的公共就业服务”方面得分（百分制）{q_csa_q3_score}分、满意度为{q_csa_q3_dos}%，全市排名第{q_csa_q3_rank2}位、本类排名第{q_csa_q3_rank1}位；“交通出行情况”方面得分（百分制）{q_csa_q4_score}分、满意度为{q_csa_q4_dos}%，全市排名第{q_csa_q4_rank2}位、本类排名第{q_csa_q4_rank1}位。'"
   ]
  },
  {
   "attachments": {},
   "cell_type": "markdown",
   "metadata": {},
   "source": [
    "### 城市居民B描述"
   ]
  },
  {
   "cell_type": "code",
   "execution_count": 33,
   "metadata": {},
   "outputs": [],
   "source": [
    "# qd\n",
    "doc.paragraphs[114].text = f'{pl}城市居民B评价得分（百分制）{q_csb_score}分、满意度为{q_csb_dos}%，全市排名第{q_csb_rank2}位，本类排名第{q_csb_rank1}位。其中“从本地市场上购买到的食品质量”方面得分（百分制）{q_csb_q1_score}分、满意度为{q_csb_q1_dos}%，全市排名第{q_csb_q1_rank2}位、本类排名第{q_csb_q1_rank1}位；“从本地药店购买到的药品质量”方面得分（百分制）{q_csb_q2_score}分、满意度为{q_csb_q2_dos}%，全市排名第{q_csb_q2_rank2}位、本类排名第{q_csb_q2_rank1}位；“平时接触的空气、水、噪声等环境问题”方面得分（百分制）{q_csb_q3_score}分、满意度为{q_csb_q3_dos}%，全市排名第{q_csb_q3_rank2}位、本类排名第{q_csb_q3_rank1}位；“提供的基础文化服务质量”方面得分（百分制）{q_csa_q4_score}分、满意度为{q_csb_q4_dos}%，全市排名第{q_csb_q4_rank2}位、本类排名第{q_csb_q4_rank1}位。'"
   ]
  },
  {
   "attachments": {},
   "cell_type": "markdown",
   "metadata": {},
   "source": [
    "## 农村居民评价结果描述"
   ]
  },
  {
   "cell_type": "code",
   "execution_count": 34,
   "metadata": {},
   "outputs": [],
   "source": [
    "#谢改\n",
    "doc.paragraphs[117].text = f'农村居民评价的访问提纲分为A、B两份，每份各有5个问题，{pl}得分{x_nc_1}分、总体满意度为{x_nc_2}%，全市排名第{x_nc_3}位，百分制得分{x_nc_4}分，比第1名得分低{x_nc_n1}分，高于（低于）平均得分{x_nc_na}分。本类排名第{x_nc_5}位，比第1名得分低{x_nc_cn1}分，高于（低于）平均得分{x_nc_cna}分。'"
   ]
  },
  {
   "attachments": {},
   "cell_type": "markdown",
   "metadata": {},
   "source": [
    "### 农村居民A评价描述"
   ]
  },
  {
   "cell_type": "code",
   "execution_count": 35,
   "metadata": {},
   "outputs": [],
   "source": [
    "#谢改\n",
    "doc.paragraphs[119].text = f'{pl}农村居民A评价得分（百分制）{x_ncA_1}分、满意度为{x_ncA_2}%，全市排名第{x_ncA_3}位，本类排名第{x_ncA_4}位。其中“平时接触的空气、水等生态环境质量”方面得分（百分制）{x_ncA1_1}分、满意度为{x_ncA1_2}%，全市排名第{x_ncA1_3}位、本类排名第{x_ncA1_4}位；“本村的主干道路的建设和维护保养”方面得分（百分制）{x_ncA2_1}分、满意度为{x_ncA2_2}%，全市排名第{x_ncA2_3}位、本类排名第{x_ncA2_4}位；“本村公共区域环境卫生、村容村貌”方面得分（百分制）{x_ncA3_1}分、满意度为{x_ncA3_2}%，全市排名第{x_ncA3_3}位、本类排名第{x_ncA3_4}位；“文化活动室、体育健身设施、阅览室、农家书屋等公共文化设施”方面得分（百分制）{x_ncA4_1}分、满意度为{x_ncA4_2}%，全市排名第{x_ncA4_3}位、本类排名第{x_ncA4_4}位；“村干部在惠民政策宣传和落实” 方面得分（百分制）{x_ncA5_1}分、满意度为{x_ncA5_2}%，全市排名第{x_ncA5_3}位、本类排名第{x_ncA5_4}位。'"
   ]
  },
  {
   "attachments": {},
   "cell_type": "markdown",
   "metadata": {},
   "source": [
    "### 农村居民B评价描述"
   ]
  },
  {
   "cell_type": "code",
   "execution_count": 36,
   "metadata": {},
   "outputs": [],
   "source": [
    "#谢改\n",
    "doc.paragraphs[122].text = f'{pl}农村居民B评价得分（百分制）{x_ncB_1}分、满意度为{x_ncB_2}%，全市排名第{x_ncB_3}位，本类排名第{x_ncB_4}位。其中“居民生活用水水源水质”方面得分（百分制）{x_ncB1_1}分、满意度为{x_ncB1_2}%，全市排名第{x_ncB1_3}位、本类排名第{x_ncB1_4}位；“医疗服务机构”方面得分（百分制）{x_ncB2_1}分、满意度为{x_ncB2_2}%，全市排名第{x_ncB2_3}位、本类排名第{x_ncB2_4}位；“执行村规民约、简化红白喜事操办”方面得分（百分制）{x_ncB3_1}分、满意度为{x_ncB3_2}%，全市排名第{x_ncB3_3}位、本类排名第{x_ncB3_4}位；“落实兴农惠农各项政策措施”方面得分（百分制）{x_ncB4_1}分、满意度为{x_ncB4_2}%，全市排名第{x_ncB4_3}位、本类排名第{x_ncB4_4}位；“主动服务群众、实施村务公开工作”方面得分（百分制）{x_ncB5_1}分、满意度为{x_ncB5_2}%，全市排名第{x_ncB5_3}位、本类排名第{x_ncB5_4}位。'"
   ]
  },
  {
   "attachments": {},
   "cell_type": "markdown",
   "metadata": {},
   "source": [
    "## 政务服务对象评价结果描述"
   ]
  },
  {
   "cell_type": "code",
   "execution_count": 37,
   "metadata": {},
   "outputs": [],
   "source": [
    "# 谢改\n",
    "doc.paragraphs[125].text = f'政务服务对象评价的访问提纲共有5个问题，{pl}得分（百分制）{x_z_1}分、总体满意度为{x_z_2}%，全市排名第{x_z_3}位、本类排名第{x_z_4}位。其中“窗口工作人员一次性告知服务事项”方面得分（百分制）{x_z1_1}分、满意度为{x_z1_2}%，全市排名第{x_z1_3}位、本类排名第{x_z1_4}位；“实施的自助服务、延时服务等便民措施”方面得分（百分制）{x_z2_1}分、满意度为{x_z2_2}%，全市排名第{x_z2_3}位、本类排名第{x_z2_3}位；“实施政务服务全程网办情况”方面得分（百分制）{x_z3_1}分、满意度为{x_z3_2}%，全市排名第{x_z3_3}位、本类排名第{x_z3_4}位；“落实减税降费优惠政策相关服务”方面得分（百分制）{x_z4_1}分、满意度为{x_z4_2}%，全市排名第{x_z4_3}位、本类排名第{x_z4_4}位；“政务窗口工作人员服务态度和服务质量”方面得分（百分制）{x_z5_1}分、满意度为{x_z5_2}%，全市排名第{x_z5_3}位、本类排名第{x_z5_4}位。'"
   ]
  },
  {
   "attachments": {},
   "cell_type": "markdown",
   "metadata": {},
   "source": [
    "## 落实整改评价结果描述 "
   ]
  },
  {
   "attachments": {},
   "cell_type": "markdown",
   "metadata": {},
   "source": [
    "### 12345热线调查结果"
   ]
  },
  {
   "cell_type": "code",
   "execution_count": 38,
   "metadata": {},
   "outputs": [],
   "source": [
    "# 谢改\n",
    "doc.paragraphs[130].text = f'12345热线调查的访问提纲共有4个问题，{pl}得分{x_r_1}分、总体满意度为{x_r_2}%，全市排名第{x_r_3}位、本类排名第{x_r_4}位。其中“是否在公开渠道得知您所提出的意见建议处理情况”的问题，{x_r1_1}名受访者选择“知道”，{x_r1_2}名受访者选择“不知道”；“回应所提意见建议方面”方面得分（百分制）{x_r2_1}分、满意度为{x_r2_2}%，全市排名第{x_r2_3}位、本类排名第{x_r2_4}位；“最近一年来在落实群众意见建议方面的整改举措”方面得分（百分制）{x_r3_1}分、满意度为{x_r3_2}%，全市排名第{x_r3_3}位、本类排名第{x_r3_4}位；“在问题整改取得的实际效果”方面得分（百分制）{x_r4_1}分、满意度为{x_r4_2}%，全市排名第{x_r4_3}位、本类排名第{x_r4_4}位。'"
   ]
  },
  {
   "attachments": {},
   "cell_type": "markdown",
   "metadata": {},
   "source": [
    "### 12345热线指标考核结果"
   ]
  },
  {
   "cell_type": "code",
   "execution_count": 39,
   "metadata": {},
   "outputs": [],
   "source": [
    "# 刘改\n",
    "doc.paragraphs[133].text = f'{pl}12345热线指标考核结果得分{l_k_1}分，本类排名第{l_k_2}名。'"
   ]
  },
  {
   "attachments": {},
   "cell_type": "markdown",
   "metadata": {},
   "source": [
    "### 群众意见建议落实情况加分结果"
   ]
  },
  {
   "cell_type": "code",
   "execution_count": 40,
   "metadata": {},
   "outputs": [],
   "source": [
    "doc.paragraphs[135].text = f'{pl}群众意见建议落实情况加分XX分，满意度XX%，全市排名第XX名，本类排名第XX名。其中“是否及时反馈”方面，XX名受访者选择“是”，XX名受访者选择“否”；“是否得到有效处理”方面，XX名受访者选择“是”，XX名受访者选择“否”；“重视程度和应对态度”方面，满意度为XX%，全市排名第XX位，本类排名第XX位；“整改措施和效果” 方面，满意度为XX%，全市排名第XX位，本类排名第XX位。'"
   ]
  },
  {
   "cell_type": "markdown",
   "metadata": {},
   "source": [
    "# 评价结果对比分析"
   ]
  },
  {
   "attachments": {},
   "cell_type": "markdown",
   "metadata": {},
   "source": [
    "## 内容描述"
   ]
  },
  {
   "cell_type": "code",
   "execution_count": 41,
   "metadata": {},
   "outputs": [],
   "source": [
    "doc.paragraphs[139].text = f'{pl}2022年社会评价结果与最优县（市、区）及平均值对比的情况如下表所示：'"
   ]
  },
  {
   "attachments": {},
   "cell_type": "markdown",
   "metadata": {},
   "source": [
    "## 表4表头"
   ]
  },
  {
   "cell_type": "code",
   "execution_count": 42,
   "metadata": {},
   "outputs": [],
   "source": [
    "# d\n",
    "doc.paragraphs[140].text = f'表4. 2022年度社会评价{pl}与全市和本类最高及平均情况对比'"
   ]
  },
  {
   "attachments": {},
   "cell_type": "markdown",
   "metadata": {},
   "source": [
    "## 表4内容"
   ]
  },
  {
   "cell_type": "code",
   "execution_count": 43,
   "metadata": {},
   "outputs": [
    {
     "data": {
      "text/plain": [
       "'总得分'"
      ]
     },
     "execution_count": 43,
     "metadata": {},
     "output_type": "execute_result"
    }
   ],
   "source": [
    "table_4 = doc.tables[3]\n",
    "table_4.cell(0,1).text"
   ]
  },
  {
   "cell_type": "markdown",
   "metadata": {},
   "source": [
    "## 图2标题"
   ]
  },
  {
   "cell_type": "code",
   "execution_count": 44,
   "metadata": {},
   "outputs": [],
   "source": [
    "# d\n",
    "doc.paragraphs[143].text = f'图2. 2022年度社会评价{pl}与全市和本类最高及平均情况对比图'"
   ]
  },
  {
   "attachments": {},
   "cell_type": "markdown",
   "metadata": {},
   "source": [
    "## 与往年评价对比描述"
   ]
  },
  {
   "cell_type": "code",
   "execution_count": 45,
   "metadata": {},
   "outputs": [],
   "source": [
    "# d\n",
    "doc.paragraphs[146].text = f'{pl}2022年社会评价结果与前三年评价结果对比的情况如下表所示：'"
   ]
  },
  {
   "attachments": {},
   "cell_type": "markdown",
   "metadata": {},
   "source": [
    "## 表5表头"
   ]
  },
  {
   "cell_type": "code",
   "execution_count": 46,
   "metadata": {},
   "outputs": [],
   "source": [
    "# d\n",
    "doc.paragraphs[147].text = f'表5. {pl}2022年社会评价结果与前三年评价结果对比'"
   ]
  },
  {
   "attachments": {},
   "cell_type": "markdown",
   "metadata": {},
   "source": [
    "## 表5内容"
   ]
  },
  {
   "cell_type": "code",
   "execution_count": 47,
   "metadata": {},
   "outputs": [
    {
     "data": {
      "text/plain": [
       "'对比项目'"
      ]
     },
     "execution_count": 47,
     "metadata": {},
     "output_type": "execute_result"
    }
   ],
   "source": [
    "table_5 = doc.tables[4]\n",
    "table_5.cell(0,0).text"
   ]
  },
  {
   "cell_type": "markdown",
   "metadata": {},
   "source": [
    "## 图三标题"
   ]
  },
  {
   "cell_type": "code",
   "execution_count": 48,
   "metadata": {},
   "outputs": [],
   "source": [
    "# d\n",
    "doc.paragraphs[150].text = f'图3. {pl}历年社会评价排名情况情况对比图'"
   ]
  },
  {
   "attachments": {},
   "cell_type": "markdown",
   "metadata": {},
   "source": [
    "## 保存"
   ]
  },
  {
   "cell_type": "code",
   "execution_count": 49,
   "metadata": {},
   "outputs": [],
   "source": [
    "doc.save(f'{pl}报告.docx')"
   ]
  },
  {
   "cell_type": "code",
   "execution_count": null,
   "metadata": {},
   "outputs": [],
   "source": []
  }
 ],
 "metadata": {
  "kernelspec": {
   "display_name": "base",
   "language": "python",
   "name": "python3"
  },
  "language_info": {
   "codemirror_mode": {
    "name": "ipython",
    "version": 3
   },
   "file_extension": ".py",
   "mimetype": "text/x-python",
   "name": "python",
   "nbconvert_exporter": "python",
   "pygments_lexer": "ipython3",
   "version": "3.9.12"
  },
  "orig_nbformat": 4
 },
 "nbformat": 4,
 "nbformat_minor": 2
}
